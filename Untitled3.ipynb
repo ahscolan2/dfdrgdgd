{
  "nbformat": 4,
  "nbformat_minor": 0,
  "metadata": {
    "colab": {
      "provenance": [],
      "authorship_tag": "ABX9TyP7+5A3m30Xgh89MVo3NM7t",
      "include_colab_link": true
    },
    "kernelspec": {
      "name": "python3",
      "display_name": "Python 3"
    },
    "language_info": {
      "name": "python"
    }
  },
  "cells": [
    {
      "cell_type": "markdown",
      "metadata": {
        "id": "view-in-github",
        "colab_type": "text"
      },
      "source": [
        "<a href=\"https://colab.research.google.com/github/ahscolan2/dfdrgdgd/blob/main/Untitled3.ipynb\" target=\"_parent\"><img src=\"https://colab.research.google.com/assets/colab-badge.svg\" alt=\"Open In Colab\"/></a>"
      ]
    },
    {
      "cell_type": "code",
      "execution_count": 5,
      "metadata": {
        "colab": {
          "base_uri": "https://localhost:8080/"
        },
        "id": "FDV8tfkrmZa9",
        "outputId": "89f5eecc-bb7f-49c6-839f-b36d95d67201"
      },
      "outputs": [
        {
          "output_type": "stream",
          "name": "stdout",
          "text": [
            "Looking in indexes: https://pypi.org/simple, https://us-python.pkg.dev/colab-wheels/public/simple/\n",
            "Requirement already satisfied: python-pptx in /usr/local/lib/python3.10/dist-packages (0.6.21)\n",
            "Requirement already satisfied: lxml>=3.1.0 in /usr/local/lib/python3.10/dist-packages (from python-pptx) (4.9.2)\n",
            "Requirement already satisfied: Pillow>=3.3.2 in /usr/local/lib/python3.10/dist-packages (from python-pptx) (8.4.0)\n",
            "Requirement already satisfied: XlsxWriter>=0.5.7 in /usr/local/lib/python3.10/dist-packages (from python-pptx) (3.1.2)\n"
          ]
        }
      ],
      "source": [
        "!pip install python-pptx\n",
        "from pptx import Presentation\n",
        "from pptx.util import Pt\n",
        "from pptx.enum.text import PP_ALIGN\n",
        "from pptx.dml.color import RGBColor\n",
        "from pptx.enum.shapes import MSO_SHAPE\n",
        "\n",
        "# Create a new PowerPoint presentation\n",
        "presentation = Presentation()\n",
        "\n",
        "# Slide 1: Title\n",
        "slide1 = presentation.slides.add_slide(presentation.slide_layouts[0])\n",
        "title = slide1.shapes.title\n",
        "title.text = \"All About Me!\"\n",
        "title.text_frame.paragraphs[0].alignment = PP_ALIGN.CENTER\n",
        "title.text_frame.paragraphs[0].font.size = Pt(60)\n",
        "title.text_frame.paragraphs[0].font.bold = True\n",
        "title.text_frame.paragraphs[0].font.color.rgb = RGBColor(255, 255, 255)  # White font color\n",
        "\n",
        "# Slide 2: Introduction\n",
        "slide2 = presentation.slides.add_slide(presentation.slide_layouts[1])\n",
        "title = slide2.shapes.title\n",
        "content = slide2.placeholders[1]\n",
        "title.text = \"Introduction\"\n",
        "content.text = \"Hi there! My name is [Boy's Name].\\nI'm an 8th-grade student with lots of energy and a passion for learning.\\n\\nLet's dive in and learn more about me!\"\n",
        "title.text_frame.paragraphs[0].alignment = PP_ALIGN.CENTER\n",
        "content.text_frame.paragraphs[0].alignment = PP_ALIGN.CENTER\n",
        "content.text_frame.paragraphs[0].font.size = Pt(30)\n",
        "content.text_frame.paragraphs[0].font.bold = True\n",
        "\n",
        "# Slide 3: Interests and Hobbies\n",
        "slide3 = presentation.slides.add_slide(presentation.slide_layouts[1])\n",
        "title = slide3.shapes.title\n",
        "content = slide3.placeholders[0]\n",
        "title.text = \"Interests and Hobbies\"\n",
        "content.text = \"Interests:\\n\\n- Sports\\n- Reading\\n- Music\\n- Video games\\n\\nHobbies:\\n\\n- Playing basketball\\n- Collecting comic books\\n- Playing the guitar\\n- Exploring nature\"\n",
        "title.text_frame.paragraphs[0].alignment = PP_ALIGN.CENTER\n",
        "content.text_frame.paragraphs[0].alignment = PP_ALIGN.LEFT\n",
        "content.text_frame.paragraphs[0].font.size = Pt(24)\n",
        "\n",
        "# Slide 4: Academic Achievements\n",
        "slide4 = presentation.slides.add_slide(presentation.slide_layouts[1])\n",
        "title = slide4.shapes.title\n",
        "content = slide4.placeholders[0]\n",
        "title.text = \"Academic Achievements\"\n",
        "content.text = \"- Honor roll\\n- Participation in academic clubs\\n- Special awards\"\n",
        "title.text_frame.paragraphs[0].alignment = PP_ALIGN.CENTER\n",
        "content.text_frame.paragraphs[0].alignment = PP_ALIGN.LEFT\n",
        "content.text_frame.paragraphs[0].font.size = Pt(24)\n",
        "\n",
        "# Slide 5: Extracurricular Activities\n",
        "slide5 = presentation.slides.add_slide(presentation.slide_layouts[1])\n",
        "title = slide5.shapes.title\n",
        "content = slide5.placeholders[0]\n",
        "title.text = \"Extracurricular Activities\"\n",
        "content.text = \"- Sports teams\\n- School band\\n- Drama club\\n- Community service organizations\"\n",
        "title.text_frame.paragraphs[0].alignment = PP_ALIGN.CENTER\n",
        "content.text_frame.paragraphs[0].alignment = PP_ALIGN.LEFT\n",
        "content.text_frame.paragraphs[0].font.size = Pt(24)\n",
        "\n",
        "# Slide 6: Goals and Aspirations\n",
        "slide6 = presentation.slides.add_slide(presentation.slide_layouts[1])\n",
        "title = slide6.shapes.title\n",
        "content = slide6.placeholders[0]\n",
        "title.text = \"Goals and Aspirations\"\n",
        "content.text = \"- Attending college\\n- Pursuing a specific career\\n- Making a positive impact on the world\"\n",
        "title.text_frame.paragraphs[0].alignment = PP_ALIGN.CENTER\n",
        "content.text_frame.paragraphs[0].alignment = PP_ALIGN.LEFT\n",
        "content.text_frame.paragraphs[0].font.size = Pt(24)\n",
        "\n",
        "# Slide 7: Conclusion\n",
        "slide7 = presentation.slides.add_slide(presentation.slide_layouts[5])  # Use layout 5 instead of 6\n",
        "title = slide7.shapes.title\n",
        "content = slide7.placeholders[0]  # Use placeholder 0 instead of 1\n",
        "title.text = \"Conclusion\"\n",
        "content.text = \"Thank you for getting to know me better!\\nI'm excited about the future and all the opportunities it holds.\\n\\nFeel free to reach out if you have any questions or want to know more about me.\\n\\nBye for now!\"\n",
        "title.text_frame.paragraphs[0].alignment = PP_ALIGN.CENTER\n",
        "content.text_frame.paragraphs[0].alignment = PP_ALIGN.CENTER\n",
        "content.text_frame.paragraphs[0].font.size = Pt(24)\n",
        "content.text_frame.paragraphs[0].font.bold = True\n",
        "content.text_frame.paragraphs[0].font.color.rgb = RGBColor(255, 255, 255)  # White font color\n",
        "\n",
        "# Customize slide backgrounds\n",
        "slide1.background.fill.solid()\n",
        "slide1.background.fill.fore_color.rgb = RGBColor(0, 48, 73)  # Dark blue background\n",
        "\n",
        "slide2.background.fill.solid()\n",
        "slide2.background.fill.fore_color.rgb = RGBColor(255, 255, 255)  # White background\n",
        "\n",
        "slide3.background.fill.solid()\n",
        "slide3.background.fill.fore_color.rgb = RGBColor(255, 235, 156)  # Light yellow background\n",
        "\n",
        "slide4.background.fill.solid()\n",
        "slide4.background.fill.fore_color.rgb = RGBColor(0, 48, 73)  # Dark blue background\n",
        "\n",
        "slide5.background.fill.solid()\n",
        "slide5.background.fill.fore_color.rgb = RGBColor(255, 235, 156)  # Light yellow background\n",
        "\n",
        "slide6.background.fill.solid()\n",
        "slide6.background.fill.fore_color.rgb = RGBColor(0, 48, 73)  # Dark blue background\n",
        "\n",
        "slide7.background.fill.solid()\n",
        "slide7.background.fill.fore_color.rgb = RGBColor(0, 48, 73)  # Dark blue background\n",
        "\n",
        "# Add a shape to slide 3\n",
        "shape = slide3.shapes.add_shape(MSO_SHAPE.CLOUD, 400, 200, 400, 200)\n",
        "shape.fill.solid()\n",
        "shape.fill.fore_color.rgb = RGBColor(255, 235, 156)  # Light yellow shape fill color\n",
        "shape.line.width = Pt(2)\n",
        "shape.line.color.rgb = RGBColor(0, 48, 73)  # Dark blue shape line color\n",
        "\n",
        "# Save the presentation\n",
        "presentation.save(\"my_presentation.pptx\")"
      ]
    }
  ]
}